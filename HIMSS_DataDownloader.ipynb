{
 "cells": [
  {
   "cell_type": "markdown",
   "metadata": {},
   "source": [
    "# Download dataset from HIMSS_2017.mdb database. \n",
    "\n",
    "### **DO NOT PLACE ANYWHERE BESIDE** '8660-GroupProject\\data' (git issues)\n",
    "\n",
    "> [Download Here (Google Drive)](https://drive.google.com/file/d/1Nte65qlAd7Nt0Zv-nGofEDEo5Pprlyyn/view?usp=drive_link)"
   ]
  },
  {
   "cell_type": "code",
   "execution_count": 1,
   "metadata": {},
   "outputs": [],
   "source": [
    "\"\"\" Functions for up-to-date dataframe acquisition from HIMSS online source.\"\"\"\n",
    "import pandas as pd \n",
    "import pyodbc\n",
    "import warnings\n",
    "\n",
    "MDB_FILE = 'data\\\\HIMSS_2017.mdb'\n",
    "DRIVER = r'{Microsoft Access Driver (*.mdb, *.accdb)}'\n",
    "\n",
    "def get_connected():\n",
    "    conn_str = f'DRIVER={DRIVER};DBQ={MDB_FILE};'\n",
    "    return pyodbc.connect(conn_str)\n",
    "\n",
    "\"\"\"List table names in HIMSS_2017\"\"\"\n",
    "def list_tables():\n",
    "    try:\n",
    "        conn = get_connected()\n",
    "        cursor = conn.cursor()\n",
    "        tables = [row.table_name for row in cursor.tables(tableType='TABLE')]\n",
    "        conn.close()\n",
    "        return tables\n",
    "    except Exception as e:\n",
    "        print(f\"Error listing tables: {e}\")\n",
    "        return []\n",
    "\n",
    "\"\"\" Download dataframe to /data from HIMSS_2017 \"\"\"\n",
    "\"\"\" Input: table_name (str)\"\"\"\n",
    "def download_table(table_name):\n",
    "    try:\n",
    "        conn = get_connected()\n",
    "        with warnings.catch_warnings():\n",
    "            warnings.simplefilter(\"ignore\", UserWarning)\n",
    "            df = pd.read_sql(f'SELECT * FROM [{table_name}]', conn)\n",
    "        fname = 'data/' + table_name + '.csv'\n",
    "        df.to_csv(fname, index=False, encoding='utf-8')\n",
    "        conn.close()\n",
    "        return print(f'Sucsess! Saved to directory 8660-GroupProject/{fname}')\n",
    "    except Exception as e:\n",
    "        print(f\"Error downloading table '{table_name}': {e}\")\n",
    "        return 0"
   ]
  },
  {
   "cell_type": "code",
   "execution_count": 2,
   "metadata": {},
   "outputs": [
    {
     "name": "stdout",
     "output_type": "stream",
     "text": [
      "Sucsess! Saved to directory 8660-GroupProject/data/dbo_HAEntity.csv\n"
     ]
    }
   ],
   "source": [
    "# example table download\n",
    "download_table('dbo_HAEntity')"
   ]
  },
  {
   "cell_type": "markdown",
   "metadata": {},
   "source": []
  }
 ],
 "metadata": {
  "kernelspec": {
   "display_name": "base",
   "language": "python",
   "name": "python3"
  },
  "language_info": {
   "codemirror_mode": {
    "name": "ipython",
    "version": 3
   },
   "file_extension": ".py",
   "mimetype": "text/x-python",
   "name": "python",
   "nbconvert_exporter": "python",
   "pygments_lexer": "ipython3",
   "version": "3.12.7"
  }
 },
 "nbformat": 4,
 "nbformat_minor": 2
}
