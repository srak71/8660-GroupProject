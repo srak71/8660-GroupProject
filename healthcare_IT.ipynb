{
 "cells": [
  {
   "cell_type": "markdown",
   "metadata": {},
   "source": [
    "# Healthcare IT\n",
    "\n",
    "### DSA-8660 Spring 2025\n",
    "### Authors: \n",
    "### Due: April 27"
   ]
  },
  {
   "cell_type": "markdown",
   "metadata": {},
   "source": [
    "# Dataset: HIMSS_2017.mdb\n",
    "\n",
    "Raw Dataset too large for GitHub. Download manually, place in '\\data':\n",
    "\n",
    "[Download from Google Drive](https://drive.google.com/file/d/1Nte65qlAd7Nt0Zv-nGofEDEo5Pprlyyn/view?usp=drive_link)\n"
   ]
  },
  {
   "cell_type": "code",
   "execution_count": 1,
   "metadata": {},
   "outputs": [],
   "source": [
    "# libs\n",
    "import pandas as pd \n",
    "import numpy as np \n",
    "import pyodbc  "
   ]
  },
  {
   "cell_type": "code",
   "execution_count": 6,
   "metadata": {},
   "outputs": [],
   "source": [
    "MDB_FILE = r'data\\HIMSS_2017.mdb'\n",
    "DRIVER = r'{Microsoft Access Driver (*.mdb, *.accdb)}'\n",
    "\n",
    "def get_connection():\n",
    "    conn_str = f'DRIVER={DRIVER};DBQ={MDB_FILE};'\n",
    "    return pyodbc.connect(conn_str)\n",
    "\n",
    "# List all table names in the database\n",
    "def list_tables():\n",
    "    try:\n",
    "        conn = get_connection()\n",
    "        cursor = conn.cursor()\n",
    "        tables = [row.table_name for row in cursor.tables(tableType='TABLE')]\n",
    "        conn.close()\n",
    "        return tables\n",
    "    except Exception as e:\n",
    "        print(f\"Error listing tables: {e}\")\n",
    "        return []\n",
    "\n",
    "# Download dataframe\n",
    "def download_table(table_name):\n",
    "    try:\n",
    "        conn = get_connection()\n",
    "        df = pd.read_sql(f'SELECT * FROM [{table_name}]', conn)\n",
    "        conn.close()\n",
    "        return df\n",
    "    except Exception as e:\n",
    "        print(f\"❌ Error downloading table '{table_name}': {e}\")\n",
    "        return 0"
   ]
  },
  {
   "cell_type": "code",
   "execution_count": 7,
   "metadata": {},
   "outputs": [
    {
     "data": {
      "text/plain": [
       "['dbo_AccountableCareOrganizations',\n",
       " 'dbo_ACOAffiliatedHAEntities',\n",
       " 'dbo_ACOContacts',\n",
       " 'dbo_ACORegions',\n",
       " 'dbo_ACOSponsoringOrganizations',\n",
       " 'dbo_AcuteInfo',\n",
       " 'dbo_AppVendorPlan',\n",
       " 'dbo_ARRA',\n",
       " 'dbo_ARRADetails',\n",
       " 'dbo_AutoIdentification',\n",
       " 'dbo_AutoIdentificationProduct',\n",
       " 'dbo_BarcodingDetails',\n",
       " 'dbo_BiometricTechnology',\n",
       " 'dbo_CDSS',\n",
       " 'dbo_Computer',\n",
       " 'dbo_contact',\n",
       " 'dbo_DataCenterApplication',\n",
       " 'dbo_DataCenterFacility',\n",
       " 'dbo_DistributionPlan',\n",
       " 'dbo_HAEntity',\n",
       " 'dbo_HAEntityApplication',\n",
       " 'dbo_HAEntityApplicationCharacteristics',\n",
       " 'dbo_HAEntityApplicationFunction',\n",
       " 'dbo_HAEntityApplicationPlan',\n",
       " 'dbo_HAEntityContact',\n",
       " 'dbo_HAEntityHistory',\n",
       " 'dbo_HAEntityNPI',\n",
       " 'dbo_HAEntityRegion',\n",
       " 'dbo_HandheldInfo',\n",
       " 'dbo_HardwareInfo',\n",
       " 'dbo_HostedSoftware',\n",
       " 'dbo_IEInitiatives',\n",
       " 'dbo_IHDSChanges',\n",
       " 'dbo_ISPlan',\n",
       " 'dbo_LongTermStorage',\n",
       " 'dbo_MedAdministration',\n",
       " 'dbo_MedicalDeviceInfo',\n",
       " 'dbo_MedicalDeviceInterface',\n",
       " 'dbo_MedicalDeviceProduct',\n",
       " 'dbo_MedicalDeviceStrategy',\n",
       " 'dbo_PACSComponent',\n",
       " 'dbo_PACSInfo',\n",
       " 'dbo_PACSVendor',\n",
       " 'dbo_ParentInfo',\n",
       " 'dbo_Pharmacy',\n",
       " 'dbo_PharmacyProduct',\n",
       " 'dbo_PreferredSupplier',\n",
       " 'dbo_ProductHistory',\n",
       " 'dbo_PurchasingOrganization',\n",
       " 'dbo_Server',\n",
       " 'dbo_Service',\n",
       " 'dbo_StageValidation',\n",
       " 'dbo_SupplyAutomation',\n",
       " 'dbo_SupplyAutomationDept',\n",
       " 'dbo_SupplyAutomationProduct',\n",
       " 'dbo_Survey',\n",
       " 'dbo_SurveySegment',\n",
       " 'dbo_TelecomInfo',\n",
       " 'dbo_Telecommunication',\n",
       " 'dbo_UseOfITComponent',\n",
       " 'dbo_VendorHistory',\n",
       " 'dbo_Wireless',\n",
       " 'dbo_WirelessAccess',\n",
       " 'dbo_WirelessVendor']"
      ]
     },
     "execution_count": 7,
     "metadata": {},
     "output_type": "execute_result"
    }
   ],
   "source": [
    "list_tables()"
   ]
  },
  {
   "cell_type": "markdown",
   "metadata": {},
   "source": []
  }
 ],
 "metadata": {
  "kernelspec": {
   "display_name": "base",
   "language": "python",
   "name": "python3"
  },
  "language_info": {
   "codemirror_mode": {
    "name": "ipython",
    "version": 3
   },
   "file_extension": ".py",
   "mimetype": "text/x-python",
   "name": "python",
   "nbconvert_exporter": "python",
   "pygments_lexer": "ipython3",
   "version": "3.12.7"
  }
 },
 "nbformat": 4,
 "nbformat_minor": 2
}
